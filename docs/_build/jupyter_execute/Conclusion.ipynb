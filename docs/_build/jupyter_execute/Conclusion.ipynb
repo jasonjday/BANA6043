{
 "cells": [
  {
   "cell_type": "markdown",
   "id": "01fe0154-88ec-4efb-b57a-bf551e5be716",
   "metadata": {},
   "source": [
    "# Conclusion"
   ]
  },
  {
   "cell_type": "markdown",
   "id": "3b0b6026-e348-4963-a67a-7e107442f33c",
   "metadata": {},
   "source": []
  },
  {
   "cell_type": "code",
   "execution_count": 1,
   "id": "8c2bbf34-8e2b-48c0-b5f3-5bc76021452e",
   "metadata": {},
   "outputs": [
    {
     "name": "stdout",
     "output_type": "stream",
     "text": [
      "Python implementation: CPython\n",
      "Python version       : 3.9.13\n",
      "IPython version      : 7.31.1\n",
      "\n",
      "jupyterlab: 3.4.4\n",
      "\n"
     ]
    }
   ],
   "source": [
    "%load_ext watermark\n",
    "%watermark -v -p jupyterlab"
   ]
  },
  {
   "cell_type": "code",
   "execution_count": null,
   "id": "63f293a3-ad1f-447c-8a06-909b7efa443a",
   "metadata": {},
   "outputs": [],
   "source": []
  }
 ],
 "metadata": {
  "kernelspec": {
   "display_name": "Python 3 (ipykernel)",
   "language": "python",
   "name": "python3"
  },
  "language_info": {
   "codemirror_mode": {
    "name": "ipython",
    "version": 3
   },
   "file_extension": ".py",
   "mimetype": "text/x-python",
   "name": "python",
   "nbconvert_exporter": "python",
   "pygments_lexer": "ipython3",
   "version": "3.9.13"
  }
 },
 "nbformat": 4,
 "nbformat_minor": 5
}