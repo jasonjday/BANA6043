{
 "cells": [
  {
   "cell_type": "markdown",
   "id": "766d884f-fa71-4cec-b8d5-9e03cb257a33",
   "metadata": {},
   "source": [
    "# Visualizations"
   ]
  },
  {
   "cell_type": "markdown",
   "id": "f942e691-c457-4a37-86cb-eb7603473ee7",
   "metadata": {
    "tags": []
   },
   "source": [
    "## Exploratory Data Analysis"
   ]
  },
  {
   "cell_type": "code",
   "execution_count": 1,
   "id": "4927689d-fd02-404f-8d56-4398e45c9f4b",
   "metadata": {},
   "outputs": [
    {
     "data": {
      "text/html": [
       "<div class=\"bk-root\">\n",
       "        <a href=\"https://bokeh.org\" target=\"_blank\" class=\"bk-logo bk-logo-small bk-logo-notebook\"></a>\n",
       "        <span id=\"1002\">Loading BokehJS ...</span>\n",
       "    </div>\n"
      ]
     },
     "metadata": {},
     "output_type": "display_data"
    },
    {
     "data": {
      "application/javascript": [
       "(function(root) {\n",
       "  function now() {\n",
       "    return new Date();\n",
       "  }\n",
       "\n",
       "  const force = true;\n",
       "\n",
       "  if (typeof root._bokeh_onload_callbacks === \"undefined\" || force === true) {\n",
       "    root._bokeh_onload_callbacks = [];\n",
       "    root._bokeh_is_loading = undefined;\n",
       "  }\n",
       "\n",
       "const JS_MIME_TYPE = 'application/javascript';\n",
       "  const HTML_MIME_TYPE = 'text/html';\n",
       "  const EXEC_MIME_TYPE = 'application/vnd.bokehjs_exec.v0+json';\n",
       "  const CLASS_NAME = 'output_bokeh rendered_html';\n",
       "\n",
       "  /**\n",
       "   * Render data to the DOM node\n",
       "   */\n",
       "  function render(props, node) {\n",
       "    const script = document.createElement(\"script\");\n",
       "    node.appendChild(script);\n",
       "  }\n",
       "\n",
       "  /**\n",
       "   * Handle when an output is cleared or removed\n",
       "   */\n",
       "  function handleClearOutput(event, handle) {\n",
       "    const cell = handle.cell;\n",
       "\n",
       "    const id = cell.output_area._bokeh_element_id;\n",
       "    const server_id = cell.output_area._bokeh_server_id;\n",
       "    // Clean up Bokeh references\n",
       "    if (id != null && id in Bokeh.index) {\n",
       "      Bokeh.index[id].model.document.clear();\n",
       "      delete Bokeh.index[id];\n",
       "    }\n",
       "\n",
       "    if (server_id !== undefined) {\n",
       "      // Clean up Bokeh references\n",
       "      const cmd_clean = \"from bokeh.io.state import curstate; print(curstate().uuid_to_server['\" + server_id + \"'].get_sessions()[0].document.roots[0]._id)\";\n",
       "      cell.notebook.kernel.execute(cmd_clean, {\n",
       "        iopub: {\n",
       "          output: function(msg) {\n",
       "            const id = msg.content.text.trim();\n",
       "            if (id in Bokeh.index) {\n",
       "              Bokeh.index[id].model.document.clear();\n",
       "              delete Bokeh.index[id];\n",
       "            }\n",
       "          }\n",
       "        }\n",
       "      });\n",
       "      // Destroy server and session\n",
       "      const cmd_destroy = \"import bokeh.io.notebook as ion; ion.destroy_server('\" + server_id + \"')\";\n",
       "      cell.notebook.kernel.execute(cmd_destroy);\n",
       "    }\n",
       "  }\n",
       "\n",
       "  /**\n",
       "   * Handle when a new output is added\n",
       "   */\n",
       "  function handleAddOutput(event, handle) {\n",
       "    const output_area = handle.output_area;\n",
       "    const output = handle.output;\n",
       "\n",
       "    // limit handleAddOutput to display_data with EXEC_MIME_TYPE content only\n",
       "    if ((output.output_type != \"display_data\") || (!Object.prototype.hasOwnProperty.call(output.data, EXEC_MIME_TYPE))) {\n",
       "      return\n",
       "    }\n",
       "\n",
       "    const toinsert = output_area.element.find(\".\" + CLASS_NAME.split(' ')[0]);\n",
       "\n",
       "    if (output.metadata[EXEC_MIME_TYPE][\"id\"] !== undefined) {\n",
       "      toinsert[toinsert.length - 1].firstChild.textContent = output.data[JS_MIME_TYPE];\n",
       "      // store reference to embed id on output_area\n",
       "      output_area._bokeh_element_id = output.metadata[EXEC_MIME_TYPE][\"id\"];\n",
       "    }\n",
       "    if (output.metadata[EXEC_MIME_TYPE][\"server_id\"] !== undefined) {\n",
       "      const bk_div = document.createElement(\"div\");\n",
       "      bk_div.innerHTML = output.data[HTML_MIME_TYPE];\n",
       "      const script_attrs = bk_div.children[0].attributes;\n",
       "      for (let i = 0; i < script_attrs.length; i++) {\n",
       "        toinsert[toinsert.length - 1].firstChild.setAttribute(script_attrs[i].name, script_attrs[i].value);\n",
       "        toinsert[toinsert.length - 1].firstChild.textContent = bk_div.children[0].textContent\n",
       "      }\n",
       "      // store reference to server id on output_area\n",
       "      output_area._bokeh_server_id = output.metadata[EXEC_MIME_TYPE][\"server_id\"];\n",
       "    }\n",
       "  }\n",
       "\n",
       "  function register_renderer(events, OutputArea) {\n",
       "\n",
       "    function append_mime(data, metadata, element) {\n",
       "      // create a DOM node to render to\n",
       "      const toinsert = this.create_output_subarea(\n",
       "        metadata,\n",
       "        CLASS_NAME,\n",
       "        EXEC_MIME_TYPE\n",
       "      );\n",
       "      this.keyboard_manager.register_events(toinsert);\n",
       "      // Render to node\n",
       "      const props = {data: data, metadata: metadata[EXEC_MIME_TYPE]};\n",
       "      render(props, toinsert[toinsert.length - 1]);\n",
       "      element.append(toinsert);\n",
       "      return toinsert\n",
       "    }\n",
       "\n",
       "    /* Handle when an output is cleared or removed */\n",
       "    events.on('clear_output.CodeCell', handleClearOutput);\n",
       "    events.on('delete.Cell', handleClearOutput);\n",
       "\n",
       "    /* Handle when a new output is added */\n",
       "    events.on('output_added.OutputArea', handleAddOutput);\n",
       "\n",
       "    /**\n",
       "     * Register the mime type and append_mime function with output_area\n",
       "     */\n",
       "    OutputArea.prototype.register_mime_type(EXEC_MIME_TYPE, append_mime, {\n",
       "      /* Is output safe? */\n",
       "      safe: true,\n",
       "      /* Index of renderer in `output_area.display_order` */\n",
       "      index: 0\n",
       "    });\n",
       "  }\n",
       "\n",
       "  // register the mime type if in Jupyter Notebook environment and previously unregistered\n",
       "  if (root.Jupyter !== undefined) {\n",
       "    const events = require('base/js/events');\n",
       "    const OutputArea = require('notebook/js/outputarea').OutputArea;\n",
       "\n",
       "    if (OutputArea.prototype.mime_types().indexOf(EXEC_MIME_TYPE) == -1) {\n",
       "      register_renderer(events, OutputArea);\n",
       "    }\n",
       "  }\n",
       "  if (typeof (root._bokeh_timeout) === \"undefined\" || force === true) {\n",
       "    root._bokeh_timeout = Date.now() + 5000;\n",
       "    root._bokeh_failed_load = false;\n",
       "  }\n",
       "\n",
       "  const NB_LOAD_WARNING = {'data': {'text/html':\n",
       "     \"<div style='background-color: #fdd'>\\n\"+\n",
       "     \"<p>\\n\"+\n",
       "     \"BokehJS does not appear to have successfully loaded. If loading BokehJS from CDN, this \\n\"+\n",
       "     \"may be due to a slow or bad network connection. Possible fixes:\\n\"+\n",
       "     \"</p>\\n\"+\n",
       "     \"<ul>\\n\"+\n",
       "     \"<li>re-rerun `output_notebook()` to attempt to load from CDN again, or</li>\\n\"+\n",
       "     \"<li>use INLINE resources instead, as so:</li>\\n\"+\n",
       "     \"</ul>\\n\"+\n",
       "     \"<code>\\n\"+\n",
       "     \"from bokeh.resources import INLINE\\n\"+\n",
       "     \"output_notebook(resources=INLINE)\\n\"+\n",
       "     \"</code>\\n\"+\n",
       "     \"</div>\"}};\n",
       "\n",
       "  function display_loaded() {\n",
       "    const el = document.getElementById(\"1002\");\n",
       "    if (el != null) {\n",
       "      el.textContent = \"BokehJS is loading...\";\n",
       "    }\n",
       "    if (root.Bokeh !== undefined) {\n",
       "      if (el != null) {\n",
       "        el.textContent = \"BokehJS \" + root.Bokeh.version + \" successfully loaded.\";\n",
       "      }\n",
       "    } else if (Date.now() < root._bokeh_timeout) {\n",
       "      setTimeout(display_loaded, 100)\n",
       "    }\n",
       "  }\n",
       "\n",
       "  function run_callbacks() {\n",
       "    try {\n",
       "      root._bokeh_onload_callbacks.forEach(function(callback) {\n",
       "        if (callback != null)\n",
       "          callback();\n",
       "      });\n",
       "    } finally {\n",
       "      delete root._bokeh_onload_callbacks\n",
       "    }\n",
       "    console.debug(\"Bokeh: all callbacks have finished\");\n",
       "  }\n",
       "\n",
       "  function load_libs(css_urls, js_urls, callback) {\n",
       "    if (css_urls == null) css_urls = [];\n",
       "    if (js_urls == null) js_urls = [];\n",
       "\n",
       "    root._bokeh_onload_callbacks.push(callback);\n",
       "    if (root._bokeh_is_loading > 0) {\n",
       "      console.debug(\"Bokeh: BokehJS is being loaded, scheduling callback at\", now());\n",
       "      return null;\n",
       "    }\n",
       "    if (js_urls == null || js_urls.length === 0) {\n",
       "      run_callbacks();\n",
       "      return null;\n",
       "    }\n",
       "    console.debug(\"Bokeh: BokehJS not loaded, scheduling load and callback at\", now());\n",
       "    root._bokeh_is_loading = css_urls.length + js_urls.length;\n",
       "\n",
       "    function on_load() {\n",
       "      root._bokeh_is_loading--;\n",
       "      if (root._bokeh_is_loading === 0) {\n",
       "        console.debug(\"Bokeh: all BokehJS libraries/stylesheets loaded\");\n",
       "        run_callbacks()\n",
       "      }\n",
       "    }\n",
       "\n",
       "    function on_error(url) {\n",
       "      console.error(\"failed to load \" + url);\n",
       "    }\n",
       "\n",
       "    for (let i = 0; i < css_urls.length; i++) {\n",
       "      const url = css_urls[i];\n",
       "      const element = document.createElement(\"link\");\n",
       "      element.onload = on_load;\n",
       "      element.onerror = on_error.bind(null, url);\n",
       "      element.rel = \"stylesheet\";\n",
       "      element.type = \"text/css\";\n",
       "      element.href = url;\n",
       "      console.debug(\"Bokeh: injecting link tag for BokehJS stylesheet: \", url);\n",
       "      document.body.appendChild(element);\n",
       "    }\n",
       "\n",
       "    for (let i = 0; i < js_urls.length; i++) {\n",
       "      const url = js_urls[i];\n",
       "      const element = document.createElement('script');\n",
       "      element.onload = on_load;\n",
       "      element.onerror = on_error.bind(null, url);\n",
       "      element.async = false;\n",
       "      element.src = url;\n",
       "      console.debug(\"Bokeh: injecting script tag for BokehJS library: \", url);\n",
       "      document.head.appendChild(element);\n",
       "    }\n",
       "  };\n",
       "\n",
       "  function inject_raw_css(css) {\n",
       "    const element = document.createElement(\"style\");\n",
       "    element.appendChild(document.createTextNode(css));\n",
       "    document.body.appendChild(element);\n",
       "  }\n",
       "\n",
       "  const js_urls = [\"https://cdn.bokeh.org/bokeh/release/bokeh-2.4.3.min.js\", \"https://cdn.bokeh.org/bokeh/release/bokeh-gl-2.4.3.min.js\", \"https://cdn.bokeh.org/bokeh/release/bokeh-widgets-2.4.3.min.js\", \"https://cdn.bokeh.org/bokeh/release/bokeh-tables-2.4.3.min.js\", \"https://cdn.bokeh.org/bokeh/release/bokeh-mathjax-2.4.3.min.js\"];\n",
       "  const css_urls = [];\n",
       "\n",
       "  const inline_js = [    function(Bokeh) {\n",
       "      Bokeh.set_log_level(\"info\");\n",
       "    },\n",
       "function(Bokeh) {\n",
       "    }\n",
       "  ];\n",
       "\n",
       "  function run_inline_js() {\n",
       "    if (root.Bokeh !== undefined || force === true) {\n",
       "          for (let i = 0; i < inline_js.length; i++) {\n",
       "      inline_js[i].call(root, root.Bokeh);\n",
       "    }\n",
       "if (force === true) {\n",
       "        display_loaded();\n",
       "      }} else if (Date.now() < root._bokeh_timeout) {\n",
       "      setTimeout(run_inline_js, 100);\n",
       "    } else if (!root._bokeh_failed_load) {\n",
       "      console.log(\"Bokeh: BokehJS failed to load within specified timeout.\");\n",
       "      root._bokeh_failed_load = true;\n",
       "    } else if (force !== true) {\n",
       "      const cell = $(document.getElementById(\"1002\")).parents('.cell').data().cell;\n",
       "      cell.output_area.append_execute_result(NB_LOAD_WARNING)\n",
       "    }\n",
       "  }\n",
       "\n",
       "  if (root._bokeh_is_loading === 0) {\n",
       "    console.debug(\"Bokeh: BokehJS loaded, going straight to plotting\");\n",
       "    run_inline_js();\n",
       "  } else {\n",
       "    load_libs(css_urls, js_urls, function() {\n",
       "      console.debug(\"Bokeh: BokehJS plotting callback run at\", now());\n",
       "      run_inline_js();\n",
       "    });\n",
       "  }\n",
       "}(window));"
      ],
      "application/vnd.bokehjs_load.v0+json": "(function(root) {\n  function now() {\n    return new Date();\n  }\n\n  const force = true;\n\n  if (typeof root._bokeh_onload_callbacks === \"undefined\" || force === true) {\n    root._bokeh_onload_callbacks = [];\n    root._bokeh_is_loading = undefined;\n  }\n\n\n  if (typeof (root._bokeh_timeout) === \"undefined\" || force === true) {\n    root._bokeh_timeout = Date.now() + 5000;\n    root._bokeh_failed_load = false;\n  }\n\n  const NB_LOAD_WARNING = {'data': {'text/html':\n     \"<div style='background-color: #fdd'>\\n\"+\n     \"<p>\\n\"+\n     \"BokehJS does not appear to have successfully loaded. If loading BokehJS from CDN, this \\n\"+\n     \"may be due to a slow or bad network connection. Possible fixes:\\n\"+\n     \"</p>\\n\"+\n     \"<ul>\\n\"+\n     \"<li>re-rerun `output_notebook()` to attempt to load from CDN again, or</li>\\n\"+\n     \"<li>use INLINE resources instead, as so:</li>\\n\"+\n     \"</ul>\\n\"+\n     \"<code>\\n\"+\n     \"from bokeh.resources import INLINE\\n\"+\n     \"output_notebook(resources=INLINE)\\n\"+\n     \"</code>\\n\"+\n     \"</div>\"}};\n\n  function display_loaded() {\n    const el = document.getElementById(\"1002\");\n    if (el != null) {\n      el.textContent = \"BokehJS is loading...\";\n    }\n    if (root.Bokeh !== undefined) {\n      if (el != null) {\n        el.textContent = \"BokehJS \" + root.Bokeh.version + \" successfully loaded.\";\n      }\n    } else if (Date.now() < root._bokeh_timeout) {\n      setTimeout(display_loaded, 100)\n    }\n  }\n\n  function run_callbacks() {\n    try {\n      root._bokeh_onload_callbacks.forEach(function(callback) {\n        if (callback != null)\n          callback();\n      });\n    } finally {\n      delete root._bokeh_onload_callbacks\n    }\n    console.debug(\"Bokeh: all callbacks have finished\");\n  }\n\n  function load_libs(css_urls, js_urls, callback) {\n    if (css_urls == null) css_urls = [];\n    if (js_urls == null) js_urls = [];\n\n    root._bokeh_onload_callbacks.push(callback);\n    if (root._bokeh_is_loading > 0) {\n      console.debug(\"Bokeh: BokehJS is being loaded, scheduling callback at\", now());\n      return null;\n    }\n    if (js_urls == null || js_urls.length === 0) {\n      run_callbacks();\n      return null;\n    }\n    console.debug(\"Bokeh: BokehJS not loaded, scheduling load and callback at\", now());\n    root._bokeh_is_loading = css_urls.length + js_urls.length;\n\n    function on_load() {\n      root._bokeh_is_loading--;\n      if (root._bokeh_is_loading === 0) {\n        console.debug(\"Bokeh: all BokehJS libraries/stylesheets loaded\");\n        run_callbacks()\n      }\n    }\n\n    function on_error(url) {\n      console.error(\"failed to load \" + url);\n    }\n\n    for (let i = 0; i < css_urls.length; i++) {\n      const url = css_urls[i];\n      const element = document.createElement(\"link\");\n      element.onload = on_load;\n      element.onerror = on_error.bind(null, url);\n      element.rel = \"stylesheet\";\n      element.type = \"text/css\";\n      element.href = url;\n      console.debug(\"Bokeh: injecting link tag for BokehJS stylesheet: \", url);\n      document.body.appendChild(element);\n    }\n\n    for (let i = 0; i < js_urls.length; i++) {\n      const url = js_urls[i];\n      const element = document.createElement('script');\n      element.onload = on_load;\n      element.onerror = on_error.bind(null, url);\n      element.async = false;\n      element.src = url;\n      console.debug(\"Bokeh: injecting script tag for BokehJS library: \", url);\n      document.head.appendChild(element);\n    }\n  };\n\n  function inject_raw_css(css) {\n    const element = document.createElement(\"style\");\n    element.appendChild(document.createTextNode(css));\n    document.body.appendChild(element);\n  }\n\n  const js_urls = [\"https://cdn.bokeh.org/bokeh/release/bokeh-2.4.3.min.js\", \"https://cdn.bokeh.org/bokeh/release/bokeh-gl-2.4.3.min.js\", \"https://cdn.bokeh.org/bokeh/release/bokeh-widgets-2.4.3.min.js\", \"https://cdn.bokeh.org/bokeh/release/bokeh-tables-2.4.3.min.js\", \"https://cdn.bokeh.org/bokeh/release/bokeh-mathjax-2.4.3.min.js\"];\n  const css_urls = [];\n\n  const inline_js = [    function(Bokeh) {\n      Bokeh.set_log_level(\"info\");\n    },\nfunction(Bokeh) {\n    }\n  ];\n\n  function run_inline_js() {\n    if (root.Bokeh !== undefined || force === true) {\n          for (let i = 0; i < inline_js.length; i++) {\n      inline_js[i].call(root, root.Bokeh);\n    }\nif (force === true) {\n        display_loaded();\n      }} else if (Date.now() < root._bokeh_timeout) {\n      setTimeout(run_inline_js, 100);\n    } else if (!root._bokeh_failed_load) {\n      console.log(\"Bokeh: BokehJS failed to load within specified timeout.\");\n      root._bokeh_failed_load = true;\n    } else if (force !== true) {\n      const cell = $(document.getElementById(\"1002\")).parents('.cell').data().cell;\n      cell.output_area.append_execute_result(NB_LOAD_WARNING)\n    }\n  }\n\n  if (root._bokeh_is_loading === 0) {\n    console.debug(\"Bokeh: BokehJS loaded, going straight to plotting\");\n    run_inline_js();\n  } else {\n    load_libs(css_urls, js_urls, function() {\n      console.debug(\"Bokeh: BokehJS plotting callback run at\", now());\n      run_inline_js();\n    });\n  }\n}(window));"
     },
     "metadata": {},
     "output_type": "display_data"
    }
   ],
   "source": [
    "import pandas as pd               #Used for data manipulation, tidying data and conditional statements\n",
    "import bokeh.io                   #bokeh is the main plotting package (submodules of bokeh must be explicitly imported)\n",
    "import bokeh.models               #bokeh.models helps turn dataframes and dictionaries into easily transformable data\n",
    "import bokeh.plotting             #this is the primary tool used to assemble plots\n",
    "import bokeh.transform            #function for computations such as a cumulative sum function\n",
    "bokeh.io.output_notebook()        #Enable viewing Bokeh plots in the notebook and interactive\n",
    "import matplotlib.pyplot as plt   #Data visualization dictionary\n",
    "import numpy as np  "
   ]
  },
  {
   "cell_type": "markdown",
   "id": "054d528f-86a1-417d-9029-9144f9544fa6",
   "metadata": {},
   "source": [
    "Since our focus is on how campaigns affected sales the following data frames were imported into Python:"
   ]
  },
  {
   "cell_type": "code",
   "execution_count": 2,
   "id": "a9b4e900-2b63-4892-a9b1-36566641899f",
   "metadata": {},
   "outputs": [],
   "source": [
    "from completejourney_py import get_data\n",
    "\n",
    "cj_data = get_data()\n",
    "transactions = cj_data['transactions']\n",
    "demographics = cj_data['demographics']\n",
    "products = cj_data['products']\n",
    "campaigns = cj_data['campaigns']"
   ]
  },
  {
   "cell_type": "markdown",
   "id": "7367b963-ed7c-44ec-b176-382892356108",
   "metadata": {},
   "source": [
    "Once the completejourney data was imported into Python, the next step was to tidy the data. We were interested in discovering trends related to campaigns and how it affected sales. Therefore, we started with merging campaigns, demographics, transactions and products. "
   ]
  },
  {
   "cell_type": "code",
   "execution_count": 3,
   "id": "6d6336b1-5667-49c6-b898-ed8e150473ed",
   "metadata": {},
   "outputs": [
    {
     "data": {
      "text/plain": [
       "Index(['household_id'], dtype='object')"
      ]
     },
     "execution_count": 3,
     "metadata": {},
     "output_type": "execute_result"
    }
   ],
   "source": [
    "campaigns.columns.intersection(transactions.columns) #Checks which columns have the same heading in both datasets"
   ]
  },
  {
   "cell_type": "code",
   "execution_count": 4,
   "id": "920eed19-62f8-49c7-a5ba-d0e03c43cc11",
   "metadata": {},
   "outputs": [],
   "source": [
    "df1= (\n",
    "    campaigns\n",
    "    .merge(demographics, how='inner', on='household_id')\n",
    "    .merge(transactions, how='inner', on='household_id')\n",
    ")\n",
    "df2= (\n",
    "   df1\n",
    "   .merge(products, how='inner', on='product_id')\n",
    ")\n",
    "coupons= (\n",
    "    cj_data['coupon_redemptions']\n",
    "    .merge(cj_data['demographics'], how='inner', on='household_id')\n",
    "    .merge(cj_data['campaign_descriptions'], how='inner', on='campaign_id')\n",
    ")\n",
    "coupon_transactions = (\n",
    "    cj_data['coupon_redemptions']\n",
    "    .merge(cj_data['coupons'], how='inner', on='campaign_id')\n",
    ")\n",
    "test =(\n",
    "    cj_data['campaign_descriptions']\n",
    "    .merge(cj_data['coupon_redemptions'], how='inner', on='campaign_id')\n",
    ")"
   ]
  },
  {
   "cell_type": "code",
   "execution_count": 5,
   "id": "57f1379a-69a5-4cfb-a690-fd6741c38b9c",
   "metadata": {},
   "outputs": [],
   "source": [
    "datetimes = pd.to_datetime(coupon_transactions['redemption_date'])\n",
    "coupon_transactions['day'] = datetimes.dt.day\n",
    "coupon_transactions['month'] = datetimes.dt.month\n",
    "coupon_transactions['year'] = datetimes.dt.year\n",
    "\n",
    "coupon_redemptions = (\n",
    "coupon_transactions\n",
    "    .groupby('month')['redemption_date'].count()\n",
    ")\n",
    "coupon_redemptions = coupon_redemptions.to_frame()"
   ]
  },
  {
   "cell_type": "code",
   "execution_count": 6,
   "id": "21eec0e9-7da5-43a4-9871-d441ed461417",
   "metadata": {},
   "outputs": [
    {
     "data": {
      "text/html": [
       "<div>\n",
       "<style scoped>\n",
       "    .dataframe tbody tr th:only-of-type {\n",
       "        vertical-align: middle;\n",
       "    }\n",
       "\n",
       "    .dataframe tbody tr th {\n",
       "        vertical-align: top;\n",
       "    }\n",
       "\n",
       "    .dataframe thead th {\n",
       "        text-align: right;\n",
       "    }\n",
       "</style>\n",
       "<table border=\"1\" class=\"dataframe\">\n",
       "  <thead>\n",
       "    <tr style=\"text-align: right;\">\n",
       "      <th></th>\n",
       "      <th>household_id</th>\n",
       "      <th>coupon_upc_x</th>\n",
       "      <th>campaign_id</th>\n",
       "      <th>redemption_date</th>\n",
       "      <th>coupon_upc_y</th>\n",
       "      <th>product_id</th>\n",
       "      <th>day</th>\n",
       "      <th>month</th>\n",
       "      <th>year</th>\n",
       "    </tr>\n",
       "  </thead>\n",
       "  <tbody>\n",
       "    <tr>\n",
       "      <th>31668825</th>\n",
       "      <td>1453</td>\n",
       "      <td>10000085475</td>\n",
       "      <td>18</td>\n",
       "      <td>2017-10-31</td>\n",
       "      <td>10000085475</td>\n",
       "      <td>1000205</td>\n",
       "      <td>31</td>\n",
       "      <td>10</td>\n",
       "      <td>2017</td>\n",
       "    </tr>\n",
       "    <tr>\n",
       "      <th>31668826</th>\n",
       "      <td>1453</td>\n",
       "      <td>10000085475</td>\n",
       "      <td>18</td>\n",
       "      <td>2017-10-31</td>\n",
       "      <td>10000085475</td>\n",
       "      <td>1000237</td>\n",
       "      <td>31</td>\n",
       "      <td>10</td>\n",
       "      <td>2017</td>\n",
       "    </tr>\n",
       "    <tr>\n",
       "      <th>31668827</th>\n",
       "      <td>1453</td>\n",
       "      <td>10000085475</td>\n",
       "      <td>18</td>\n",
       "      <td>2017-10-31</td>\n",
       "      <td>10000085475</td>\n",
       "      <td>1000285</td>\n",
       "      <td>31</td>\n",
       "      <td>10</td>\n",
       "      <td>2017</td>\n",
       "    </tr>\n",
       "    <tr>\n",
       "      <th>31668828</th>\n",
       "      <td>1453</td>\n",
       "      <td>10000085475</td>\n",
       "      <td>18</td>\n",
       "      <td>2017-10-31</td>\n",
       "      <td>10000085475</td>\n",
       "      <td>1000411</td>\n",
       "      <td>31</td>\n",
       "      <td>10</td>\n",
       "      <td>2017</td>\n",
       "    </tr>\n",
       "    <tr>\n",
       "      <th>31668829</th>\n",
       "      <td>1453</td>\n",
       "      <td>10000085475</td>\n",
       "      <td>18</td>\n",
       "      <td>2017-10-31</td>\n",
       "      <td>10000085475</td>\n",
       "      <td>1000830</td>\n",
       "      <td>31</td>\n",
       "      <td>10</td>\n",
       "      <td>2017</td>\n",
       "    </tr>\n",
       "    <tr>\n",
       "      <th>...</th>\n",
       "      <td>...</td>\n",
       "      <td>...</td>\n",
       "      <td>...</td>\n",
       "      <td>...</td>\n",
       "      <td>...</td>\n",
       "      <td>...</td>\n",
       "      <td>...</td>\n",
       "      <td>...</td>\n",
       "      <td>...</td>\n",
       "    </tr>\n",
       "    <tr>\n",
       "      <th>56214437</th>\n",
       "      <td>2317</td>\n",
       "      <td>10000089277</td>\n",
       "      <td>18</td>\n",
       "      <td>2017-12-24</td>\n",
       "      <td>59986600074</td>\n",
       "      <td>10456329</td>\n",
       "      <td>24</td>\n",
       "      <td>12</td>\n",
       "      <td>2017</td>\n",
       "    </tr>\n",
       "    <tr>\n",
       "      <th>56214438</th>\n",
       "      <td>2317</td>\n",
       "      <td>10000089277</td>\n",
       "      <td>18</td>\n",
       "      <td>2017-12-24</td>\n",
       "      <td>59986600074</td>\n",
       "      <td>10457608</td>\n",
       "      <td>24</td>\n",
       "      <td>12</td>\n",
       "      <td>2017</td>\n",
       "    </tr>\n",
       "    <tr>\n",
       "      <th>56214439</th>\n",
       "      <td>2317</td>\n",
       "      <td>10000089277</td>\n",
       "      <td>18</td>\n",
       "      <td>2017-12-24</td>\n",
       "      <td>59986600074</td>\n",
       "      <td>12385921</td>\n",
       "      <td>24</td>\n",
       "      <td>12</td>\n",
       "      <td>2017</td>\n",
       "    </tr>\n",
       "    <tr>\n",
       "      <th>56214440</th>\n",
       "      <td>2317</td>\n",
       "      <td>10000089277</td>\n",
       "      <td>18</td>\n",
       "      <td>2017-12-24</td>\n",
       "      <td>59986600074</td>\n",
       "      <td>6961675</td>\n",
       "      <td>24</td>\n",
       "      <td>12</td>\n",
       "      <td>2017</td>\n",
       "    </tr>\n",
       "    <tr>\n",
       "      <th>56214441</th>\n",
       "      <td>2317</td>\n",
       "      <td>10000089277</td>\n",
       "      <td>18</td>\n",
       "      <td>2017-12-24</td>\n",
       "      <td>59986600074</td>\n",
       "      <td>877774</td>\n",
       "      <td>24</td>\n",
       "      <td>12</td>\n",
       "      <td>2017</td>\n",
       "    </tr>\n",
       "  </tbody>\n",
       "</table>\n",
       "<p>24545617 rows × 9 columns</p>\n",
       "</div>"
      ],
      "text/plain": [
       "          household_id  coupon_upc_x  campaign_id redemption_date  \\\n",
       "31668825          1453   10000085475           18      2017-10-31   \n",
       "31668826          1453   10000085475           18      2017-10-31   \n",
       "31668827          1453   10000085475           18      2017-10-31   \n",
       "31668828          1453   10000085475           18      2017-10-31   \n",
       "31668829          1453   10000085475           18      2017-10-31   \n",
       "...                ...           ...          ...             ...   \n",
       "56214437          2317   10000089277           18      2017-12-24   \n",
       "56214438          2317   10000089277           18      2017-12-24   \n",
       "56214439          2317   10000089277           18      2017-12-24   \n",
       "56214440          2317   10000089277           18      2017-12-24   \n",
       "56214441          2317   10000089277           18      2017-12-24   \n",
       "\n",
       "          coupon_upc_y  product_id  day  month  year  \n",
       "31668825   10000085475     1000205   31     10  2017  \n",
       "31668826   10000085475     1000237   31     10  2017  \n",
       "31668827   10000085475     1000285   31     10  2017  \n",
       "31668828   10000085475     1000411   31     10  2017  \n",
       "31668829   10000085475     1000830   31     10  2017  \n",
       "...                ...         ...  ...    ...   ...  \n",
       "56214437   59986600074    10456329   24     12  2017  \n",
       "56214438   59986600074    10457608   24     12  2017  \n",
       "56214439   59986600074    12385921   24     12  2017  \n",
       "56214440   59986600074     6961675   24     12  2017  \n",
       "56214441   59986600074      877774   24     12  2017  \n",
       "\n",
       "[24545617 rows x 9 columns]"
      ]
     },
     "execution_count": 6,
     "metadata": {},
     "output_type": "execute_result"
    }
   ],
   "source": [
    "coupon_transactions.loc[coupon_transactions['campaign_id'] == 18]"
   ]
  },
  {
   "cell_type": "code",
   "execution_count": 7,
   "id": "a39e1c34-2d55-4168-8718-66c041dc7366",
   "metadata": {},
   "outputs": [
    {
     "data": {
      "text/html": [
       "<div>\n",
       "<style scoped>\n",
       "    .dataframe tbody tr th:only-of-type {\n",
       "        vertical-align: middle;\n",
       "    }\n",
       "\n",
       "    .dataframe tbody tr th {\n",
       "        vertical-align: top;\n",
       "    }\n",
       "\n",
       "    .dataframe thead th {\n",
       "        text-align: right;\n",
       "    }\n",
       "</style>\n",
       "<table border=\"1\" class=\"dataframe\">\n",
       "  <thead>\n",
       "    <tr style=\"text-align: right;\">\n",
       "      <th></th>\n",
       "      <th>redemption_date</th>\n",
       "    </tr>\n",
       "    <tr>\n",
       "      <th>month</th>\n",
       "      <th></th>\n",
       "    </tr>\n",
       "  </thead>\n",
       "  <tbody>\n",
       "    <tr>\n",
       "      <th>10</th>\n",
       "      <td>112767</td>\n",
       "    </tr>\n",
       "    <tr>\n",
       "      <th>11</th>\n",
       "      <td>17554063</td>\n",
       "    </tr>\n",
       "    <tr>\n",
       "      <th>12</th>\n",
       "      <td>6878787</td>\n",
       "    </tr>\n",
       "  </tbody>\n",
       "</table>\n",
       "</div>"
      ],
      "text/plain": [
       "       redemption_date\n",
       "month                 \n",
       "10              112767\n",
       "11            17554063\n",
       "12             6878787"
      ]
     },
     "execution_count": 7,
     "metadata": {},
     "output_type": "execute_result"
    }
   ],
   "source": [
    "campaign13_transactions = (\n",
    "    coupon_transactions\n",
    "    .query('campaign_id==18')\n",
    ")\n",
    "campaign13_redemptions = (\n",
    "campaign13_transactions\n",
    "    .groupby('month')['redemption_date'].count()\n",
    ")\n",
    "campaign13_redemptions = campaign13_redemptions.to_frame()\n",
    "campaign13_redemptions"
   ]
  },
  {
   "cell_type": "code",
   "execution_count": 8,
   "id": "9671f81a-7fae-4cd4-913a-64fe308a860c",
   "metadata": {},
   "outputs": [],
   "source": [
    "top_campaign_transactions = (\n",
    "    coupon_transactions\n",
    "    .query('campaign_id==18' or 'campaign_id==13' or 'campaign_id==8')\n",
    ")\n",
    "top_campaign_redemptions = (\n",
    "top_campaign_transactions\n",
    "    .groupby('month')['redemption_date'].count()\n",
    ")\n",
    "top_campaign_redemptions = top_campaign_redemptions.to_frame()"
   ]
  },
  {
   "cell_type": "markdown",
   "id": "e542115d-23a7-41b6-bb1e-757db9fddb13",
   "metadata": {
    "tags": []
   },
   "source": [
    "### Which campaigns sold the most products?"
   ]
  },
  {
   "cell_type": "markdown",
   "id": "906f9339-9aac-4710-b97f-6d6b7a225a09",
   "metadata": {},
   "source": [
    "The first step we took to evaluate the effectiveness of campaigns was to find out the total sales achieved through each campaign."
   ]
  },
  {
   "cell_type": "code",
   "execution_count": 9,
   "id": "3906a183-9af6-4c9e-af8c-a08bd945fb65",
   "metadata": {},
   "outputs": [
    {
     "data": {
      "image/png": "[encoded data removed]",
      "text/plain": [
       "<Figure size 400x700 with 1 Axes>"
      ]
     },
     "metadata": {
      "filenames": {
       "image/png": "/Users/jd74192/python/BANA6043/Final_Project/_build/jupyter_execute/page1_14_0.png"
      }
     },
     "output_type": "display_data"
    }
   ],
   "source": [
    "df_campaigns = df2.groupby(['campaign_id'],as_index=False).agg({'sales_value':'sum'}).sort_values(by = 'sales_value', ascending=False)\n",
    "\n",
    "ax =(df_campaigns\n",
    "    .sort_values('sales_value')\n",
    "    .plot(x='campaign_id', y='sales_value', kind='barh', title='Revenue Earned Through Each Campaign', figsize=(4,7),color='green', legend = False, xlabel='Campaign')\n",
    ");\n",
    "ax.set_xlabel('Sales');"
   ]
  },
  {
   "cell_type": "markdown",
   "id": "919ab2d9-c91b-49ae-bd40-8a899292d9e9",
   "metadata": {},
   "source": [
    "Looking at the bar chart above it is clear that campaigns 18, 13 and 8 generated the highest sales. Let's take a deeper dive into these three campaigns."
   ]
  },
  {
   "cell_type": "markdown",
   "id": "aa3fb1f2-30f2-49e4-9ca7-c5976d189aa3",
   "metadata": {
    "tags": []
   },
   "source": [
    "### Which departments were affected by campaigns 18, 13 & 8?"
   ]
  },
  {
   "cell_type": "markdown",
   "id": "ae18abc4-096f-4707-9242-3ecfbdc9a08b",
   "metadata": {},
   "source": [
    "In this section we determined the departments that brought in the most revenue within these the top 3 campaigns."
   ]
  },
  {
   "cell_type": "code",
   "execution_count": 10,
   "id": "af96e5b9-7764-4776-947c-7c1271645d63",
   "metadata": {},
   "outputs": [],
   "source": [
    "df_campaigns_18 = df2.loc[(df2['campaign_id']==18)] \n",
    "df_department_18 = df_campaigns_18.groupby(['department'],as_index=False).agg({'sales_value':'sum'}).sort_values(by = 'sales_value', ascending=True)\n",
    "df_department_18 = df_department_18[~df_department_18['department'].isin(['MISCELLANEOUS', 'COUPON'])]"
   ]
  },
  {
   "cell_type": "code",
   "execution_count": 11,
   "id": "0e7dcf7b-06ca-4876-85d4-b768cfcd447e",
   "metadata": {},
   "outputs": [],
   "source": [
    "df_campaigns_13 = df2.loc[(df2['campaign_id']==13)] \n",
    "df_department_13 = df_campaigns_13.groupby(['department'],as_index=False).agg({'sales_value':'sum'}).sort_values(by = 'sales_value', ascending=True)\n",
    "df_department_13 = df_department_13[~df_department_13['department'].isin(['MISCELLANEOUS', 'COUPON'])]"
   ]
  },
  {
   "cell_type": "code",
   "execution_count": 12,
   "id": "2a0b86fa-4307-4353-940a-51469b70e1f0",
   "metadata": {},
   "outputs": [
    {
     "data": {
      "text/plain": [
       "77045.46692307692"
      ]
     },
     "execution_count": 12,
     "metadata": {},
     "output_type": "execute_result"
    }
   ],
   "source": [
    "df_campaigns_8 = df2.loc[(df2['campaign_id']==8)] \n",
    "df_department_8 = df_campaigns_8.groupby(['department'],as_index=False).agg({'sales_value':'sum'}).sort_values(by = 'sales_value', ascending=True)\n",
    "df_department_8 = df_department_8[~df_department_8['department'].isin(['MISCELLANEOUS', 'COUPON'])]\n",
    "df_department_8['sales_value'].mean()"
   ]
  },
  {
   "cell_type": "code",
   "execution_count": 13,
   "id": "3514f2da-21fe-41cd-8390-892eafb0b7c3",
   "metadata": {},
   "outputs": [],
   "source": [
    "df_campaigns_18 = df2.loc[(df2['campaign_id']==18)] \n",
    "df_campaigns_13 = df2.loc[(df2['campaign_id']==13)] \n",
    "df_campaigns_8 = df2.loc[(df2['campaign_id']==8)] \n",
    "\n",
    "df_department_18 = df_campaigns_18.groupby(['department'],as_index=False).agg({'sales_value':'sum'}).nlargest(15, 'sales_value').sort_values(by = 'sales_value', ascending=True)\n",
    "df_department_18 = df_department_18[~df_department_18['department'].isin(['MISCELLANEOUS', 'COUPON'])]\n",
    "\n",
    "df_department_13 = df_campaigns_13.groupby(['department'],as_index=False).agg({'sales_value':'sum'}).nlargest(15, 'sales_value').sort_values(by = 'sales_value', ascending=True)\n",
    "df_department_13 = df_department_13[~df_department_13['department'].isin(['MISCELLANEOUS', 'COUPON'])]\n",
    "\n",
    "df_department_8 = df_campaigns_8.groupby(['department'],as_index=False).agg({'sales_value':'sum'}).nlargest(15, 'sales_value').sort_values(by = 'sales_value', ascending=True)\n",
    "df_department_8 = df_department_8[~df_department_8['department'].isin(['MISCELLANEOUS', 'COUPON'])]"
   ]
  },
  {
   "cell_type": "code",
   "execution_count": 14,
   "id": "671c1e0a-591b-435f-bbed-b52b441ff7c9",
   "metadata": {},
   "outputs": [
    {
     "data": {
      "image/png": "[encoded data removed]",
      "text/plain": [
       "<Figure size 1200x800 with 3 Axes>"
      ]
     },
     "metadata": {
      "filenames": {
       "image/png": "/Users/jd74192/python/BANA6043/Final_Project/_build/jupyter_execute/page1_22_0.png"
      }
     },
     "output_type": "display_data"
    }
   ],
   "source": [
    "fig, ax_array = plt.subplots(1, 3, figsize=(12, 8), constrained_layout=True)\n",
    "ax1 = ax_array[0]  \n",
    "ax2 = ax_array[1]  \n",
    "ax3 = ax_array[2]  \n",
    "# plot 1\n",
    "ax1.barh('department','sales_value', data=df_department_18, color = 'green')\n",
    "ax1.set_ylabel('Department')\n",
    "ax1.set_title('Sales generated per department in Cam. 18')\n",
    "# plot 2\n",
    "ax2.barh('department','sales_value', data=df_department_13, color = 'green')\n",
    "ax2.set_title('Sales generated per department in Cam. 13')\n",
    "# plot 3\n",
    "ax3.barh('department','sales_value', data=df_department_8, color = 'green')\n",
    "ax3.set_title('Sales generated per department in Cam. 8');"
   ]
  },
  {
   "cell_type": "markdown",
   "id": "f0559c94-0d56-4485-9369-73db16454dd8",
   "metadata": {},
   "source": [
    "It looks like certain departments such as Grocery and Drug GM generated the most revenue while departments such as whole sales and Postal Center did not generate any revenue at all. Looking at the above graphs Regork will benefit from introducing campaigns focusing more on departments Deli through Grocery and eliminate campaigns for some of the low yielding departments."
   ]
  },
  {
   "cell_type": "markdown",
   "id": "c743bf81-5af0-4371-828a-a5473feb3cf4",
   "metadata": {
    "tags": []
   },
   "source": [
    "### Coupon Redemptions by Age Group"
   ]
  },
  {
   "cell_type": "markdown",
   "id": "97b1cbc9-f2dd-4df8-9e21-c964a3884873",
   "metadata": {},
   "source": [
    "Now that we can see which campaigns are most effective, we can look at what customers are most valuable to target these campaigns towards."
   ]
  },
  {
   "cell_type": "code",
   "execution_count": null,
   "id": "81efeb29-dda8-4770-a49f-aaf1cfc2d895",
   "metadata": {},
   "outputs": [],
   "source": []
  },
  {
   "cell_type": "code",
   "execution_count": null,
   "id": "fe29b3bd-9e44-4246-89ba-0592da138a2c",
   "metadata": {},
   "outputs": [],
   "source": []
  },
  {
   "cell_type": "code",
   "execution_count": null,
   "id": "19180dd6-aeff-4811-9038-5195f2b33a23",
   "metadata": {},
   "outputs": [],
   "source": []
  },
  {
   "cell_type": "code",
   "execution_count": null,
   "id": "d120b5bb-af84-428b-b712-545471603bf5",
   "metadata": {},
   "outputs": [],
   "source": []
  },
  {
   "cell_type": "code",
   "execution_count": 15,
   "id": "da22a2b4-6f18-4463-9a10-aa7cadc4d4e6",
   "metadata": {},
   "outputs": [
    {
     "name": "stdout",
     "output_type": "stream",
     "text": [
      "Python implementation: CPython\n",
      "Python version       : 3.9.13\n",
      "IPython version      : 7.31.1\n",
      "\n",
      "jupyterlab: 3.4.4\n",
      "\n"
     ]
    }
   ],
   "source": [
    "%load_ext watermark\n",
    "%watermark -v -p jupyterlab"
   ]
  }
 ],
 "metadata": {
  "kernelspec": {
   "display_name": "Python 3 (ipykernel)",
   "language": "python",
   "name": "python3"
  },
  "language_info": {
   "codemirror_mode": {
    "name": "ipython",
    "version": 3
   },
   "file_extension": ".py",
   "mimetype": "text/x-python",
   "name": "python",
   "nbconvert_exporter": "python",
   "pygments_lexer": "ipython3",
   "version": "3.9.13"
  }
 },
 "nbformat": 4,
 "nbformat_minor": 5
}