{
 "cells": [
  {
   "cell_type": "markdown",
   "id": "77be4dcd-e9f8-4a35-b374-9370fab92e73",
   "metadata": {},
   "source": [
    "# Introduction"
   ]
  },
  {
   "cell_type": "markdown",
   "id": "e42a9a9b-c900-4325-b4d1-c9c43c737332",
   "metadata": {},
   "source": [
    "## Meet Our Team"
   ]
  },
  {
   "cell_type": "markdown",
   "id": "86b399f8-5fa8-4bab-accb-a01dab9e9e6a",
   "metadata": {
    "jp-MarkdownHeadingCollapsed": true,
    "tags": []
   },
   "source": [
    "<table style=\"width:100%\">\n",
    "  <tr>\n",
    "    <td style=\"text-align: center\">  <img src=\"img/elayna_headshot.png\"></td>\n",
    "    <td style=\"text-align: center\">  <img src=\"img/hashani_headshot.png\"></td>\n",
    "    <td style=\"text-align: center\">  <img src=\"img/jason_headshot.png\"></td>\n",
    "  </tr>\n",
    "  <tr>\n",
    "    <td style=\"text-align: center\">Elayna Berry</td>\n",
    "    <td style=\"text-align: center\">Hashani DeSilva</td>\n",
    "    <td style=\"text-align: center\">Jason Day</td>\n",
    "  </tr>\n",
    "</table>"
   ]
  },
  {
   "cell_type": "markdown",
   "id": "1fe15f2e-f367-405d-ba35-3a146055daf7",
   "metadata": {},
   "source": [
    "## Regork's Opportunity"
   ]
  },
  {
   "cell_type": "markdown",
   "id": "c658a95c-b407-4c7b-838f-0b6f34390be0",
   "metadata": {},
   "source": [
    "Regork has compiled data around campaigns, transactions, coupon redemption, and customers. We believe Regork can increase the effectiveness of their campaigns through identifying the most effective campaign for the right customer, at the right time. Improving the efficiency of campaigns helps to first lift sales. But campaigns also help build brand awareness and customer loyalty. By optimizing our campaign schedule, we believe Regork will see a higher return on investment.\n",
    "\n",
    "Some use promotional campaigns during the holidays while others, such as, Regork have campaigns that occur year-round. We evaluate the effectiveness of Regork’s campaigns by determining the top campaigns run by Regork and figuring out how to improve them. Our focus is to figure out how these campaigns affected sales, departments and whether it’s better to have year-round campaigns or holiday focused ones.\n",
    "\n",
    "For this project we used the [completejourney](https://bradleyboehmke.github.io/completejourney/articles/completejourney.html) data to answer our business problem. The data available on transactions, demographics, products and campaigns were combined to create one large data frame. Our group determined the campaigns that generate the highest revenue by finding the sum of sales for each campaign. We will discuss our findings in the Exploratory Data and Summary Sections.\n"
   ]
  },
  {
   "cell_type": "markdown",
   "id": "3eaa95b7-cb31-4777-b1fc-b77b62bff8c9",
   "metadata": {},
   "source": [
    "# Environment"
   ]
  },
  {
   "cell_type": "code",
   "execution_count": 1,
   "id": "056495d8-947b-4368-901d-9132883fe993",
   "metadata": {},
   "outputs": [
    {
     "name": "stdout",
     "output_type": "stream",
     "text": [
      "Python implementation: CPython\n",
      "Python version       : 3.9.13\n",
      "IPython version      : 7.31.1\n",
      "\n",
      "jupyterlab: 3.4.4\n",
      "\n"
     ]
    }
   ],
   "source": [
    "%load_ext watermark\n",
    "%watermark -v -p jupyterlab"
   ]
  }
 ],
 "metadata": {
  "kernelspec": {
   "display_name": "Python 3 (ipykernel)",
   "language": "python",
   "name": "python3"
  },
  "language_info": {
   "codemirror_mode": {
    "name": "ipython",
    "version": 3
   },
   "file_extension": ".py",
   "mimetype": "text/x-python",
   "name": "python",
   "nbconvert_exporter": "python",
   "pygments_lexer": "ipython3",
   "version": "3.9.13"
  }
 },
 "nbformat": 4,
 "nbformat_minor": 5
}