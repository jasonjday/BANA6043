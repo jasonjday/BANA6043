{
 "cells": [
  {
   "cell_type": "markdown",
   "id": "01fe0154-88ec-4efb-b57a-bf551e5be716",
   "metadata": {},
   "source": [
    "# Summary"
   ]
  },
  {
   "cell_type": "markdown",
   "id": "6c2b1c3e-e52f-4322-a448-9ea717794cc0",
   "metadata": {},
   "source": [
    "## Video Summary"
   ]
  },
  {
   "cell_type": "code",
   "execution_count": 1,
   "id": "de2b7f46-ee92-409e-94a8-43cb41bd2874",
   "metadata": {
    "tags": []
   },
   "outputs": [
    {
     "data": {
      "text/html": [
       "<iframe src=\"https://www.youtube.com/embed/RRHhJDpIt8k?modestbranding=1&rel=0&color=white\" width=\"560\" height=\"315\" title=\"BANA 6043 Regork Presentation\" frameborder=\"0\" allowfullscreen></iframe>\n"
      ],
      "text/plain": [
       "<IPython.core.display.HTML object>"
      ]
     },
     "metadata": {},
     "output_type": "display_data"
    }
   ],
   "source": [
    "%%html\n",
    "<iframe src=\"https://www.youtube.com/embed/RRHhJDpIt8k?modestbranding=1&rel=0&color=white\" width=\"560\" height=\"315\" title=\"BANA 6043 Regork Presentation\" frameborder=\"0\" allowfullscreen></iframe>"
   ]
  },
  {
   "cell_type": "markdown",
   "id": "a2bf11ba-0979-42e2-a9e0-8785e073abcf",
   "metadata": {},
   "source": [
    "## Written Summary"
   ]
  },
  {
   "cell_type": "markdown",
   "id": "a65fa6cb-2a79-469a-abe6-e370f5a2a3dc",
   "metadata": {},
   "source": [
    "Our project was focused on improving Regork’s promotional campaigns and coupon use within different demographics. We studied the data made available by completejourney to figure out top campaigns, coupon use over the year and average sales trends within different demographics. Through our analysis we found that campaigns 18, 13 and 8 had the highest total sales generated in 2017. Further analysis regarding figuring out what the campaigns were promoting should be done, to determine why campaigns 18,13 and 8 had such a high lead from the rest of the campaigns. We also figured out that there was an increase in coupons redeemed during the months of August and November. We believe these increases are caused by students going back to school in August and customers holiday shopping during November. People in the age group 45-54 had the highest total coupons redeemed. We also determined that the average sales price did not vary too greatly across the different demographics. Demographics including married couples, homeowners and high-income households did have a higher sales value. \n",
    "\n",
    "Given our findings our recommendations to Regork are as follows; promotional campaigns and coupon distributions should be introduced during opportune times such as back to school and right before the holidays to generate more revenue. Promotional campaigns and coupons should be targeted towards people within the age groups of 45-54, married and are homeowners, as they have a high spending power and use coupons often. Although high-income households had a higher average sales value it might not be advisable to target that population during campaigns since they might not have much use for them. Instead, Regork can focus more on helping low-income households.  "
   ]
  },
  {
   "cell_type": "markdown",
   "id": "365ce991-161c-4dc5-b10c-f252b76ffb2c",
   "metadata": {},
   "source": [
    "# Environment"
   ]
  },
  {
   "cell_type": "code",
   "execution_count": 2,
   "id": "8c2bbf34-8e2b-48c0-b5f3-5bc76021452e",
   "metadata": {
    "tags": []
   },
   "outputs": [
    {
     "name": "stdout",
     "output_type": "stream",
     "text": [
      "Python implementation: CPython\n",
      "Python version       : 3.9.13\n",
      "IPython version      : 7.31.1\n",
      "\n",
      "jupyterlab: 3.4.4\n",
      "\n"
     ]
    }
   ],
   "source": [
    "%load_ext watermark\n",
    "%watermark -v -p jupyterlab"
   ]
  }
 ],
 "metadata": {
  "kernelspec": {
   "display_name": "Python 3 (ipykernel)",
   "language": "python",
   "name": "python3"
  },
  "language_info": {
   "codemirror_mode": {
    "name": "ipython",
    "version": 3
   },
   "file_extension": ".py",
   "mimetype": "text/x-python",
   "name": "python",
   "nbconvert_exporter": "python",
   "pygments_lexer": "ipython3",
   "version": "3.9.13"
  }
 },
 "nbformat": 4,
 "nbformat_minor": 5
}