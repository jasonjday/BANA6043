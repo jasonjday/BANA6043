{
 "cells": [
  {
   "cell_type": "markdown",
   "id": "e5f37ed8-38c6-417c-97d9-fa50af4baa89",
   "metadata": {
    "tags": []
   },
   "source": [
    "# Final Project "
   ]
  },
  {
   "cell_type": "markdown",
   "id": "297cfc75-cba5-4d7e-9c94-0f2666b3bd75",
   "metadata": {
    "tags": []
   },
   "source": [
    "#### Students:"
   ]
  },
  {
   "cell_type": "markdown",
   "id": "84191df2-0571-43d3-9172-3e8a2cad5c9f",
   "metadata": {},
   "source": [
    "- Jashani De Silva\n",
    "- Elayna Berry\n",
    "- Jason Day"
   ]
  },
  {
   "cell_type": "markdown",
   "id": "24443d97-69e9-49ff-a0a1-70d34aa772c9",
   "metadata": {
    "tags": []
   },
   "source": [
    "## Introduction"
   ]
  },
  {
   "cell_type": "markdown",
   "id": "f0218381-3228-473e-8cb7-521dd64a43c7",
   "metadata": {},
   "source": [
    "### Required Packages"
   ]
  },
  {
   "cell_type": "markdown",
   "id": "547dec67-b30f-4a81-91bc-1954489a1d56",
   "metadata": {},
   "source": [
    "<mark> add packages </mark>"
   ]
  },
  {
   "cell_type": "markdown",
   "id": "3c64b23a-e362-40d8-b04c-0a4a66a3dd18",
   "metadata": {},
   "source": [
    ".ipynb"
   ]
  },
  {
   "cell_type": "code",
   "execution_count": null,
   "id": "8c27c4f8-164e-499e-9162-7d75e88f9ee7",
   "metadata": {},
   "outputs": [],
   "source": []
  }
 ],
 "metadata": {
  "kernelspec": {
   "display_name": "Python 3 (ipykernel)",
   "language": "python",
   "name": "python3"
  },
  "language_info": {
   "codemirror_mode": {
    "name": "ipython",
    "version": 3
   },
   "file_extension": ".py",
   "mimetype": "text/x-python",
   "name": "python",
   "nbconvert_exporter": "python",
   "pygments_lexer": "ipython3",
   "version": "3.9.13"
  }
 },
 "nbformat": 4,
 "nbformat_minor": 5
}
